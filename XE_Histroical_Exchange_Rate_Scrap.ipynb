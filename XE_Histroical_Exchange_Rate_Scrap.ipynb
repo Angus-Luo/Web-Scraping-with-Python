{
 "cells": [
  {
   "cell_type": "code",
   "execution_count": 14,
   "metadata": {},
   "outputs": [],
   "source": [
    "import pandas as pd\n",
    "import datetime\n",
    "from datetime import timedelta, date"
   ]
  },
  {
   "cell_type": "code",
   "execution_count": 15,
   "metadata": {},
   "outputs": [],
   "source": [
    "def daterange(start_date, end_date):\n",
    "    for n in range(int ((end_date - start_date).days)):\n",
    "        yield start_date + timedelta(n)"
   ]
  },
  {
   "cell_type": "code",
   "execution_count": 16,
   "metadata": {},
   "outputs": [],
   "source": [
    "start_date = date(2019, 8, 1)\n",
    "end_date = datetime.date.today()"
   ]
  },
  {
   "cell_type": "code",
   "execution_count": 17,
   "metadata": {},
   "outputs": [],
   "source": [
    "df = pd.DataFrame()\n",
    "for single_date in daterange(start_date, end_date):\n",
    "    dfs = pd.read_html(f'https://www.xe.com/currencytables/?from=USD&date={single_date.strftime(\"%Y-%m-%d\")}')[0]\n",
    "    dfs['Date'] = single_date.strftime(\"%Y-%m-%d\")\n",
    "    df = df.append(dfs)\n",
    "df.columns = ['Currency code', 'Currency name', 'Units per USD', 'USD per Unit', 'Date']"
   ]
  },
  {
   "cell_type": "code",
   "execution_count": 18,
   "metadata": {},
   "outputs": [
    {
     "data": {
      "text/html": [
       "<div>\n",
       "<style scoped>\n",
       "    .dataframe tbody tr th:only-of-type {\n",
       "        vertical-align: middle;\n",
       "    }\n",
       "\n",
       "    .dataframe tbody tr th {\n",
       "        vertical-align: top;\n",
       "    }\n",
       "\n",
       "    .dataframe thead th {\n",
       "        text-align: right;\n",
       "    }\n",
       "</style>\n",
       "<table border=\"1\" class=\"dataframe\">\n",
       "  <thead>\n",
       "    <tr style=\"text-align: right;\">\n",
       "      <th></th>\n",
       "      <th>Currency code</th>\n",
       "      <th>Currency name</th>\n",
       "      <th>Units per USD</th>\n",
       "      <th>USD per Unit</th>\n",
       "      <th>Date</th>\n",
       "    </tr>\n",
       "  </thead>\n",
       "  <tbody>\n",
       "    <tr>\n",
       "      <td>0</td>\n",
       "      <td>USD</td>\n",
       "      <td>US Dollar</td>\n",
       "      <td>1.000000</td>\n",
       "      <td>1.000000</td>\n",
       "      <td>2019-08-01</td>\n",
       "    </tr>\n",
       "    <tr>\n",
       "      <td>1</td>\n",
       "      <td>EUR</td>\n",
       "      <td>Euro</td>\n",
       "      <td>0.904032</td>\n",
       "      <td>1.106156</td>\n",
       "      <td>2019-08-01</td>\n",
       "    </tr>\n",
       "    <tr>\n",
       "      <td>2</td>\n",
       "      <td>GBP</td>\n",
       "      <td>British Pound</td>\n",
       "      <td>0.823448</td>\n",
       "      <td>1.214406</td>\n",
       "      <td>2019-08-01</td>\n",
       "    </tr>\n",
       "    <tr>\n",
       "      <td>3</td>\n",
       "      <td>INR</td>\n",
       "      <td>Indian Rupee</td>\n",
       "      <td>68.951964</td>\n",
       "      <td>0.014503</td>\n",
       "      <td>2019-08-01</td>\n",
       "    </tr>\n",
       "    <tr>\n",
       "      <td>4</td>\n",
       "      <td>AUD</td>\n",
       "      <td>Australian Dollar</td>\n",
       "      <td>1.457967</td>\n",
       "      <td>0.685887</td>\n",
       "      <td>2019-08-01</td>\n",
       "    </tr>\n",
       "    <tr>\n",
       "      <td>...</td>\n",
       "      <td>...</td>\n",
       "      <td>...</td>\n",
       "      <td>...</td>\n",
       "      <td>...</td>\n",
       "      <td>...</td>\n",
       "    </tr>\n",
       "    <tr>\n",
       "      <td>162</td>\n",
       "      <td>TMT</td>\n",
       "      <td>Turkmenistani Manat</td>\n",
       "      <td>3.510000</td>\n",
       "      <td>0.284900</td>\n",
       "      <td>2019-09-16</td>\n",
       "    </tr>\n",
       "    <tr>\n",
       "      <td>163</td>\n",
       "      <td>TVD</td>\n",
       "      <td>Tuvaluan Dollar</td>\n",
       "      <td>1.462035</td>\n",
       "      <td>0.683978</td>\n",
       "      <td>2019-09-16</td>\n",
       "    </tr>\n",
       "    <tr>\n",
       "      <td>164</td>\n",
       "      <td>IMP</td>\n",
       "      <td>Isle of Man Pound</td>\n",
       "      <td>0.805676</td>\n",
       "      <td>1.241194</td>\n",
       "      <td>2019-09-16</td>\n",
       "    </tr>\n",
       "    <tr>\n",
       "      <td>165</td>\n",
       "      <td>GGP</td>\n",
       "      <td>Guernsey Pound</td>\n",
       "      <td>0.805676</td>\n",
       "      <td>1.241194</td>\n",
       "      <td>2019-09-16</td>\n",
       "    </tr>\n",
       "    <tr>\n",
       "      <td>166</td>\n",
       "      <td>ZMW</td>\n",
       "      <td>Zambian Kwacha</td>\n",
       "      <td>13.215990</td>\n",
       "      <td>0.075666</td>\n",
       "      <td>2019-09-16</td>\n",
       "    </tr>\n",
       "  </tbody>\n",
       "</table>\n",
       "<p>7849 rows × 5 columns</p>\n",
       "</div>"
      ],
      "text/plain": [
       "    Currency code        Currency name  Units per USD  USD per Unit  \\\n",
       "0             USD            US Dollar       1.000000      1.000000   \n",
       "1             EUR                 Euro       0.904032      1.106156   \n",
       "2             GBP        British Pound       0.823448      1.214406   \n",
       "3             INR         Indian Rupee      68.951964      0.014503   \n",
       "4             AUD    Australian Dollar       1.457967      0.685887   \n",
       "..            ...                  ...            ...           ...   \n",
       "162           TMT  Turkmenistani Manat       3.510000      0.284900   \n",
       "163           TVD      Tuvaluan Dollar       1.462035      0.683978   \n",
       "164           IMP    Isle of Man Pound       0.805676      1.241194   \n",
       "165           GGP       Guernsey Pound       0.805676      1.241194   \n",
       "166           ZMW       Zambian Kwacha      13.215990      0.075666   \n",
       "\n",
       "           Date  \n",
       "0    2019-08-01  \n",
       "1    2019-08-01  \n",
       "2    2019-08-01  \n",
       "3    2019-08-01  \n",
       "4    2019-08-01  \n",
       "..          ...  \n",
       "162  2019-09-16  \n",
       "163  2019-09-16  \n",
       "164  2019-09-16  \n",
       "165  2019-09-16  \n",
       "166  2019-09-16  \n",
       "\n",
       "[7849 rows x 5 columns]"
      ]
     },
     "execution_count": 18,
     "metadata": {},
     "output_type": "execute_result"
    }
   ],
   "source": [
    "df.head()"
   ]
  },
  {
   "cell_type": "code",
   "execution_count": 19,
   "metadata": {},
   "outputs": [
    {
     "data": {
      "text/plain": [
       "<matplotlib.axes._subplots.AxesSubplot at 0x2205ee82a90>"
      ]
     },
     "execution_count": 19,
     "metadata": {},
     "output_type": "execute_result"
    },
    {
     "data": {
      "image/png": "[encoded data removed]",
      "text/plain": [
       "<Figure size 432x288 with 1 Axes>"
      ]
     },
     "metadata": {
      "needs_background": "light"
     },
     "output_type": "display_data"
    }
   ],
   "source": [
    "df[df['Currency code'] == 'EUR'].plot(x='Date',y='USD per Unit',kind = 'line')"
   ]
  }
 ],
 "metadata": {
  "kernelspec": {
   "display_name": "Python 3",
   "language": "python",
   "name": "python3"
  },
  "language_info": {
   "codemirror_mode": {
    "name": "ipython",
    "version": 3
   },
   "file_extension": ".py",
   "mimetype": "text/x-python",
   "name": "python",
   "nbconvert_exporter": "python",
   "pygments_lexer": "ipython3",
   "version": "3.7.0"
  },
  "varInspector": {
   "cols": {
    "lenName": 16,
    "lenType": 16,
    "lenVar": 40
   },
   "kernels_config": {
    "python": {
     "delete_cmd_postfix": "",
     "delete_cmd_prefix": "del ",
     "library": "var_list.py",
     "varRefreshCmd": "print(var_dic_list())"
    },
    "r": {
     "delete_cmd_postfix": ") ",
     "delete_cmd_prefix": "rm(",
     "library": "var_list.r",
     "varRefreshCmd": "cat(var_dic_list()) "
    }
   },
   "types_to_exclude": [
    "module",
    "function",
    "builtin_function_or_method",
    "instance",
    "_Feature"
   ],
   "window_display": false
  }
 },
 "nbformat": 4,
 "nbformat_minor": 2
}
